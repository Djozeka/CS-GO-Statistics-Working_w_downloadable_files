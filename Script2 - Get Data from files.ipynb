{
 "cells": [
  {
   "cell_type": "markdown",
   "metadata": {},
   "source": [
    "Imports"
   ]
  },
  {
   "cell_type": "code",
   "execution_count": 1,
   "metadata": {},
   "outputs": [],
   "source": [
    "import pandas as pd\n",
    "from bs4 import BeautifulSoup\n",
    "import os\n",
    "import time\n",
    "from selenium.webdriver.chrome.options import Options\n",
    "from selenium import webdriver\n",
    "from datetime import datetime as dt"
   ]
  },
  {
   "cell_type": "markdown",
   "metadata": {},
   "source": [
    "Declarations"
   ]
  },
  {
   "cell_type": "code",
   "execution_count": 2,
   "metadata": {},
   "outputs": [],
   "source": [
    "MAIN_SITE = \"https://www.hltv.org\"\n",
    "startPos=0\n",
    "endPos=5700\n",
    "offset=100\n",
    "dates = []\n",
    "team1 = []\n",
    "team2 = []\n",
    "win_team = []\n",
    "results_loser = []\n",
    "results_winner = []\n",
    "event = []\n",
    "type_of_game = []\n",
    "link_to_game = []\n"
   ]
  },
  {
   "cell_type": "code",
   "execution_count": 3,
   "metadata": {},
   "outputs": [],
   "source": [
    "#For loop for each file scraped \n",
    "for file_number in range(startPos,endPos+offset,offset):\n",
    "    #for each file make BeautifulSoup\n",
    "    with open(f\"HTML/{file_number}.html\", \"r\") as reader:\n",
    "        html_string = reader.read()\n",
    "        soup = BeautifulSoup(html_string, 'html.parser')\n",
    "    # For each day in the file\n",
    "    for day in soup.find_all(class_=\"results-sublist\"):\n",
    "        # Get all matches links\n",
    "\n",
    "        allLinks = day.find_all('a')        \n",
    "        for link in allLinks:\n",
    "            if link.has_key('href'):\n",
    "                href = link['href']\n",
    "                if r'/matches/' in href:\n",
    "                    link_to_game.append(MAIN_SITE+href)\n",
    "        #set variable date for this whole box\n",
    "        date=day.find_all(\"div\",class_=\"standard-headline\")[0].text\n",
    "        #For each game in the day\n",
    "        for game in day.find_all(class_=\"result-con\"): # Each Match\n",
    "            dates.append(date) # Date\n",
    "            team1.append(game.find_all(class_=\"team\")[0].text) # Team 1\n",
    "            if game.find_all(class_=\"score-won\"): #If winner exists\n",
    "                results_winner.append(game.find_all(class_=\"score-won\")[0].text) # Result Winning Team\n",
    "                results_loser.append(game.find_all(class_=\"score-lost\")[0].text) # Result Losing Team\n",
    "            else: #If winner doesn't exist append tie score instead\n",
    "                results_winner.append(game.find_all(class_=\"score-tie\")[0].text) # Result Winning Team\n",
    "                results_loser.append(game.find_all(class_=\"score-tie\")[0].text) # Result Losing Team\n",
    "            team2.append(game.find_all(class_=\"team\")[0+1].text) # Team 2\n",
    "            if game.find_all(class_=\"team team-won\"):#If winner exists\n",
    "                win_team.append(game.find_all(class_=\"team team-won\")[0].text) # Winning Team\n",
    "            else: #If winner doesn't exist append \"Tie\" instead\n",
    "                win_team.append(\"Tie\")\n",
    "            event.append(game.find_all(class_=\"event\")[0].text) # Event\n",
    "            type_of_game.append(game.find_all(class_=\"star-cell\")[0].text.replace(\"\\n\",\"\")) # Type of Game"
   ]
  },
  {
   "cell_type": "code",
   "execution_count": null,
   "metadata": {},
   "outputs": [
    {
     "name": "stderr",
     "output_type": "stream",
     "text": [
      "C:\\Users\\Djoze\\AppData\\Local\\Temp\\ipykernel_15600\\2199323510.py:2: DeprecationWarning: executable_path has been deprecated, please pass in a Service object\n",
      "  wd = webdriver.Chrome(executable_path=driver_path)\n"
     ]
    },
    {
     "ename": "KeyboardInterrupt",
     "evalue": "",
     "output_type": "error",
     "traceback": [
      "\u001b[1;31m---------------------------------------------------------------------------\u001b[0m",
      "\u001b[1;31mKeyboardInterrupt\u001b[0m                         Traceback (most recent call last)",
      "Cell \u001b[1;32mIn [21], line 8\u001b[0m\n\u001b[0;32m      6\u001b[0m time\u001b[39m.\u001b[39msleep(\u001b[39m5\u001b[39m)\n\u001b[0;32m      7\u001b[0m \u001b[39mwith\u001b[39;00m \u001b[39mopen\u001b[39m(file_name, \u001b[39m\"\u001b[39m\u001b[39mw\u001b[39m\u001b[39m\"\u001b[39m, encoding\u001b[39m=\u001b[39m\u001b[39m\"\u001b[39m\u001b[39mutf-8\u001b[39m\u001b[39m\"\u001b[39m) \u001b[39mas\u001b[39;00m file:\n\u001b[1;32m----> 8\u001b[0m     file\u001b[39m.\u001b[39mwrite(wd\u001b[39m.\u001b[39;49mpage_source)\n",
      "File \u001b[1;32mc:\\Users\\Djoze\\miniconda3\\envs\\webscraping\\lib\\site-packages\\selenium\\webdriver\\remote\\webdriver.py:540\u001b[0m, in \u001b[0;36mWebDriver.page_source\u001b[1;34m(self)\u001b[0m\n\u001b[0;32m    530\u001b[0m \u001b[39m@property\u001b[39m\n\u001b[0;32m    531\u001b[0m \u001b[39mdef\u001b[39;00m \u001b[39mpage_source\u001b[39m(\u001b[39mself\u001b[39m) \u001b[39m-\u001b[39m\u001b[39m>\u001b[39m \u001b[39mstr\u001b[39m:\n\u001b[0;32m    532\u001b[0m     \u001b[39m\"\"\"\u001b[39;00m\n\u001b[0;32m    533\u001b[0m \u001b[39m    Gets the source of the current page.\u001b[39;00m\n\u001b[0;32m    534\u001b[0m \n\u001b[1;32m   (...)\u001b[0m\n\u001b[0;32m    538\u001b[0m \u001b[39m            driver.page_source\u001b[39;00m\n\u001b[0;32m    539\u001b[0m \u001b[39m    \"\"\"\u001b[39;00m\n\u001b[1;32m--> 540\u001b[0m     \u001b[39mreturn\u001b[39;00m \u001b[39mself\u001b[39;49m\u001b[39m.\u001b[39;49mexecute(Command\u001b[39m.\u001b[39;49mGET_PAGE_SOURCE)[\u001b[39m'\u001b[39m\u001b[39mvalue\u001b[39m\u001b[39m'\u001b[39m]\n",
      "File \u001b[1;32mc:\\Users\\Djoze\\miniconda3\\envs\\webscraping\\lib\\site-packages\\selenium\\webdriver\\remote\\webdriver.py:427\u001b[0m, in \u001b[0;36mWebDriver.execute\u001b[1;34m(self, driver_command, params)\u001b[0m\n\u001b[0;32m    424\u001b[0m         params[\u001b[39m'\u001b[39m\u001b[39msessionId\u001b[39m\u001b[39m'\u001b[39m] \u001b[39m=\u001b[39m \u001b[39mself\u001b[39m\u001b[39m.\u001b[39msession_id\n\u001b[0;32m    426\u001b[0m params \u001b[39m=\u001b[39m \u001b[39mself\u001b[39m\u001b[39m.\u001b[39m_wrap_value(params)\n\u001b[1;32m--> 427\u001b[0m response \u001b[39m=\u001b[39m \u001b[39mself\u001b[39;49m\u001b[39m.\u001b[39;49mcommand_executor\u001b[39m.\u001b[39;49mexecute(driver_command, params)\n\u001b[0;32m    428\u001b[0m \u001b[39mif\u001b[39;00m response:\n\u001b[0;32m    429\u001b[0m     \u001b[39mself\u001b[39m\u001b[39m.\u001b[39merror_handler\u001b[39m.\u001b[39mcheck_response(response)\n",
      "File \u001b[1;32mc:\\Users\\Djoze\\miniconda3\\envs\\webscraping\\lib\\site-packages\\selenium\\webdriver\\remote\\remote_connection.py:344\u001b[0m, in \u001b[0;36mRemoteConnection.execute\u001b[1;34m(self, command, params)\u001b[0m\n\u001b[0;32m    342\u001b[0m data \u001b[39m=\u001b[39m utils\u001b[39m.\u001b[39mdump_json(params)\n\u001b[0;32m    343\u001b[0m url \u001b[39m=\u001b[39m \u001b[39mf\u001b[39m\u001b[39m\"\u001b[39m\u001b[39m{\u001b[39;00m\u001b[39mself\u001b[39m\u001b[39m.\u001b[39m_url\u001b[39m}\u001b[39;00m\u001b[39m{\u001b[39;00mpath\u001b[39m}\u001b[39;00m\u001b[39m\"\u001b[39m\n\u001b[1;32m--> 344\u001b[0m \u001b[39mreturn\u001b[39;00m \u001b[39mself\u001b[39;49m\u001b[39m.\u001b[39;49m_request(command_info[\u001b[39m0\u001b[39;49m], url, body\u001b[39m=\u001b[39;49mdata)\n",
      "File \u001b[1;32mc:\\Users\\Djoze\\miniconda3\\envs\\webscraping\\lib\\site-packages\\selenium\\webdriver\\remote\\remote_connection.py:366\u001b[0m, in \u001b[0;36mRemoteConnection._request\u001b[1;34m(self, method, url, body)\u001b[0m\n\u001b[0;32m    363\u001b[0m     body \u001b[39m=\u001b[39m \u001b[39mNone\u001b[39;00m\n\u001b[0;32m    365\u001b[0m \u001b[39mif\u001b[39;00m \u001b[39mself\u001b[39m\u001b[39m.\u001b[39mkeep_alive:\n\u001b[1;32m--> 366\u001b[0m     response \u001b[39m=\u001b[39m \u001b[39mself\u001b[39;49m\u001b[39m.\u001b[39;49m_conn\u001b[39m.\u001b[39;49mrequest(method, url, body\u001b[39m=\u001b[39;49mbody, headers\u001b[39m=\u001b[39;49mheaders)\n\u001b[0;32m    367\u001b[0m     statuscode \u001b[39m=\u001b[39m response\u001b[39m.\u001b[39mstatus\n\u001b[0;32m    368\u001b[0m \u001b[39melse\u001b[39;00m:\n",
      "File \u001b[1;32mc:\\Users\\Djoze\\miniconda3\\envs\\webscraping\\lib\\site-packages\\urllib3\\request.py:74\u001b[0m, in \u001b[0;36mRequestMethods.request\u001b[1;34m(self, method, url, fields, headers, **urlopen_kw)\u001b[0m\n\u001b[0;32m     71\u001b[0m urlopen_kw[\u001b[39m\"\u001b[39m\u001b[39mrequest_url\u001b[39m\u001b[39m\"\u001b[39m] \u001b[39m=\u001b[39m url\n\u001b[0;32m     73\u001b[0m \u001b[39mif\u001b[39;00m method \u001b[39min\u001b[39;00m \u001b[39mself\u001b[39m\u001b[39m.\u001b[39m_encode_url_methods:\n\u001b[1;32m---> 74\u001b[0m     \u001b[39mreturn\u001b[39;00m \u001b[39mself\u001b[39m\u001b[39m.\u001b[39mrequest_encode_url(\n\u001b[0;32m     75\u001b[0m         method, url, fields\u001b[39m=\u001b[39mfields, headers\u001b[39m=\u001b[39mheaders, \u001b[39m*\u001b[39m\u001b[39m*\u001b[39murlopen_kw\n\u001b[0;32m     76\u001b[0m     )\n\u001b[0;32m     77\u001b[0m \u001b[39melse\u001b[39;00m:\n\u001b[0;32m     78\u001b[0m     \u001b[39mreturn\u001b[39;00m \u001b[39mself\u001b[39m\u001b[39m.\u001b[39mrequest_encode_body(\n\u001b[0;32m     79\u001b[0m         method, url, fields\u001b[39m=\u001b[39mfields, headers\u001b[39m=\u001b[39mheaders, \u001b[39m*\u001b[39m\u001b[39m*\u001b[39murlopen_kw\n\u001b[0;32m     80\u001b[0m     )\n",
      "File \u001b[1;32mc:\\Users\\Djoze\\miniconda3\\envs\\webscraping\\lib\\site-packages\\urllib3\\request.py:96\u001b[0m, in \u001b[0;36mRequestMethods.request_encode_url\u001b[1;34m(self, method, url, fields, headers, **urlopen_kw)\u001b[0m\n\u001b[0;32m     93\u001b[0m \u001b[39mif\u001b[39;00m fields:\n\u001b[0;32m     94\u001b[0m     url \u001b[39m+\u001b[39m\u001b[39m=\u001b[39m \u001b[39m\"\u001b[39m\u001b[39m?\u001b[39m\u001b[39m\"\u001b[39m \u001b[39m+\u001b[39m urlencode(fields)\n\u001b[1;32m---> 96\u001b[0m \u001b[39mreturn\u001b[39;00m \u001b[39mself\u001b[39m\u001b[39m.\u001b[39murlopen(method, url, \u001b[39m*\u001b[39m\u001b[39m*\u001b[39mextra_kw)\n",
      "File \u001b[1;32mc:\\Users\\Djoze\\miniconda3\\envs\\webscraping\\lib\\site-packages\\urllib3\\poolmanager.py:376\u001b[0m, in \u001b[0;36mPoolManager.urlopen\u001b[1;34m(self, method, url, redirect, **kw)\u001b[0m\n\u001b[0;32m    374\u001b[0m     response \u001b[39m=\u001b[39m conn\u001b[39m.\u001b[39murlopen(method, url, \u001b[39m*\u001b[39m\u001b[39m*\u001b[39mkw)\n\u001b[0;32m    375\u001b[0m \u001b[39melse\u001b[39;00m:\n\u001b[1;32m--> 376\u001b[0m     response \u001b[39m=\u001b[39m conn\u001b[39m.\u001b[39murlopen(method, u\u001b[39m.\u001b[39mrequest_uri, \u001b[39m*\u001b[39m\u001b[39m*\u001b[39mkw)\n\u001b[0;32m    378\u001b[0m redirect_location \u001b[39m=\u001b[39m redirect \u001b[39mand\u001b[39;00m response\u001b[39m.\u001b[39mget_redirect_location()\n\u001b[0;32m    379\u001b[0m \u001b[39mif\u001b[39;00m \u001b[39mnot\u001b[39;00m redirect_location:\n",
      "File \u001b[1;32mc:\\Users\\Djoze\\miniconda3\\envs\\webscraping\\lib\\site-packages\\urllib3\\connectionpool.py:703\u001b[0m, in \u001b[0;36mHTTPConnectionPool.urlopen\u001b[1;34m(self, method, url, body, headers, retries, redirect, assert_same_host, timeout, pool_timeout, release_conn, chunked, body_pos, **response_kw)\u001b[0m\n\u001b[0;32m    700\u001b[0m     \u001b[39mself\u001b[39m\u001b[39m.\u001b[39m_prepare_proxy(conn)\n\u001b[0;32m    702\u001b[0m \u001b[39m# Make the request on the httplib connection object.\u001b[39;00m\n\u001b[1;32m--> 703\u001b[0m httplib_response \u001b[39m=\u001b[39m \u001b[39mself\u001b[39;49m\u001b[39m.\u001b[39;49m_make_request(\n\u001b[0;32m    704\u001b[0m     conn,\n\u001b[0;32m    705\u001b[0m     method,\n\u001b[0;32m    706\u001b[0m     url,\n\u001b[0;32m    707\u001b[0m     timeout\u001b[39m=\u001b[39;49mtimeout_obj,\n\u001b[0;32m    708\u001b[0m     body\u001b[39m=\u001b[39;49mbody,\n\u001b[0;32m    709\u001b[0m     headers\u001b[39m=\u001b[39;49mheaders,\n\u001b[0;32m    710\u001b[0m     chunked\u001b[39m=\u001b[39;49mchunked,\n\u001b[0;32m    711\u001b[0m )\n\u001b[0;32m    713\u001b[0m \u001b[39m# If we're going to release the connection in ``finally:``, then\u001b[39;00m\n\u001b[0;32m    714\u001b[0m \u001b[39m# the response doesn't need to know about the connection. Otherwise\u001b[39;00m\n\u001b[0;32m    715\u001b[0m \u001b[39m# it will also try to release it and we'll have a double-release\u001b[39;00m\n\u001b[0;32m    716\u001b[0m \u001b[39m# mess.\u001b[39;00m\n\u001b[0;32m    717\u001b[0m response_conn \u001b[39m=\u001b[39m conn \u001b[39mif\u001b[39;00m \u001b[39mnot\u001b[39;00m release_conn \u001b[39melse\u001b[39;00m \u001b[39mNone\u001b[39;00m\n",
      "File \u001b[1;32mc:\\Users\\Djoze\\miniconda3\\envs\\webscraping\\lib\\site-packages\\urllib3\\connectionpool.py:449\u001b[0m, in \u001b[0;36mHTTPConnectionPool._make_request\u001b[1;34m(self, conn, method, url, timeout, chunked, **httplib_request_kw)\u001b[0m\n\u001b[0;32m    444\u001b[0m             httplib_response \u001b[39m=\u001b[39m conn\u001b[39m.\u001b[39mgetresponse()\n\u001b[0;32m    445\u001b[0m         \u001b[39mexcept\u001b[39;00m \u001b[39mBaseException\u001b[39;00m \u001b[39mas\u001b[39;00m e:\n\u001b[0;32m    446\u001b[0m             \u001b[39m# Remove the TypeError from the exception chain in\u001b[39;00m\n\u001b[0;32m    447\u001b[0m             \u001b[39m# Python 3 (including for exceptions like SystemExit).\u001b[39;00m\n\u001b[0;32m    448\u001b[0m             \u001b[39m# Otherwise it looks like a bug in the code.\u001b[39;00m\n\u001b[1;32m--> 449\u001b[0m             six\u001b[39m.\u001b[39;49mraise_from(e, \u001b[39mNone\u001b[39;49;00m)\n\u001b[0;32m    450\u001b[0m \u001b[39mexcept\u001b[39;00m (SocketTimeout, BaseSSLError, SocketError) \u001b[39mas\u001b[39;00m e:\n\u001b[0;32m    451\u001b[0m     \u001b[39mself\u001b[39m\u001b[39m.\u001b[39m_raise_timeout(err\u001b[39m=\u001b[39me, url\u001b[39m=\u001b[39murl, timeout_value\u001b[39m=\u001b[39mread_timeout)\n",
      "File \u001b[1;32m<string>:3\u001b[0m, in \u001b[0;36mraise_from\u001b[1;34m(value, from_value)\u001b[0m\n",
      "File \u001b[1;32mc:\\Users\\Djoze\\miniconda3\\envs\\webscraping\\lib\\site-packages\\urllib3\\connectionpool.py:444\u001b[0m, in \u001b[0;36mHTTPConnectionPool._make_request\u001b[1;34m(self, conn, method, url, timeout, chunked, **httplib_request_kw)\u001b[0m\n\u001b[0;32m    441\u001b[0m \u001b[39mexcept\u001b[39;00m \u001b[39mTypeError\u001b[39;00m:\n\u001b[0;32m    442\u001b[0m     \u001b[39m# Python 3\u001b[39;00m\n\u001b[0;32m    443\u001b[0m     \u001b[39mtry\u001b[39;00m:\n\u001b[1;32m--> 444\u001b[0m         httplib_response \u001b[39m=\u001b[39m conn\u001b[39m.\u001b[39;49mgetresponse()\n\u001b[0;32m    445\u001b[0m     \u001b[39mexcept\u001b[39;00m \u001b[39mBaseException\u001b[39;00m \u001b[39mas\u001b[39;00m e:\n\u001b[0;32m    446\u001b[0m         \u001b[39m# Remove the TypeError from the exception chain in\u001b[39;00m\n\u001b[0;32m    447\u001b[0m         \u001b[39m# Python 3 (including for exceptions like SystemExit).\u001b[39;00m\n\u001b[0;32m    448\u001b[0m         \u001b[39m# Otherwise it looks like a bug in the code.\u001b[39;00m\n\u001b[0;32m    449\u001b[0m         six\u001b[39m.\u001b[39mraise_from(e, \u001b[39mNone\u001b[39;00m)\n",
      "File \u001b[1;32mc:\\Users\\Djoze\\miniconda3\\envs\\webscraping\\lib\\http\\client.py:1374\u001b[0m, in \u001b[0;36mHTTPConnection.getresponse\u001b[1;34m(self)\u001b[0m\n\u001b[0;32m   1372\u001b[0m \u001b[39mtry\u001b[39;00m:\n\u001b[0;32m   1373\u001b[0m     \u001b[39mtry\u001b[39;00m:\n\u001b[1;32m-> 1374\u001b[0m         response\u001b[39m.\u001b[39;49mbegin()\n\u001b[0;32m   1375\u001b[0m     \u001b[39mexcept\u001b[39;00m \u001b[39mConnectionError\u001b[39;00m:\n\u001b[0;32m   1376\u001b[0m         \u001b[39mself\u001b[39m\u001b[39m.\u001b[39mclose()\n",
      "File \u001b[1;32mc:\\Users\\Djoze\\miniconda3\\envs\\webscraping\\lib\\http\\client.py:318\u001b[0m, in \u001b[0;36mHTTPResponse.begin\u001b[1;34m(self)\u001b[0m\n\u001b[0;32m    316\u001b[0m \u001b[39m# read until we get a non-100 response\u001b[39;00m\n\u001b[0;32m    317\u001b[0m \u001b[39mwhile\u001b[39;00m \u001b[39mTrue\u001b[39;00m:\n\u001b[1;32m--> 318\u001b[0m     version, status, reason \u001b[39m=\u001b[39m \u001b[39mself\u001b[39;49m\u001b[39m.\u001b[39;49m_read_status()\n\u001b[0;32m    319\u001b[0m     \u001b[39mif\u001b[39;00m status \u001b[39m!=\u001b[39m CONTINUE:\n\u001b[0;32m    320\u001b[0m         \u001b[39mbreak\u001b[39;00m\n",
      "File \u001b[1;32mc:\\Users\\Djoze\\miniconda3\\envs\\webscraping\\lib\\http\\client.py:279\u001b[0m, in \u001b[0;36mHTTPResponse._read_status\u001b[1;34m(self)\u001b[0m\n\u001b[0;32m    278\u001b[0m \u001b[39mdef\u001b[39;00m \u001b[39m_read_status\u001b[39m(\u001b[39mself\u001b[39m):\n\u001b[1;32m--> 279\u001b[0m     line \u001b[39m=\u001b[39m \u001b[39mstr\u001b[39m(\u001b[39mself\u001b[39;49m\u001b[39m.\u001b[39;49mfp\u001b[39m.\u001b[39;49mreadline(_MAXLINE \u001b[39m+\u001b[39;49m \u001b[39m1\u001b[39;49m), \u001b[39m\"\u001b[39m\u001b[39miso-8859-1\u001b[39m\u001b[39m\"\u001b[39m)\n\u001b[0;32m    280\u001b[0m     \u001b[39mif\u001b[39;00m \u001b[39mlen\u001b[39m(line) \u001b[39m>\u001b[39m _MAXLINE:\n\u001b[0;32m    281\u001b[0m         \u001b[39mraise\u001b[39;00m LineTooLong(\u001b[39m\"\u001b[39m\u001b[39mstatus line\u001b[39m\u001b[39m\"\u001b[39m)\n",
      "File \u001b[1;32mc:\\Users\\Djoze\\miniconda3\\envs\\webscraping\\lib\\socket.py:705\u001b[0m, in \u001b[0;36mSocketIO.readinto\u001b[1;34m(self, b)\u001b[0m\n\u001b[0;32m    703\u001b[0m \u001b[39mwhile\u001b[39;00m \u001b[39mTrue\u001b[39;00m:\n\u001b[0;32m    704\u001b[0m     \u001b[39mtry\u001b[39;00m:\n\u001b[1;32m--> 705\u001b[0m         \u001b[39mreturn\u001b[39;00m \u001b[39mself\u001b[39;49m\u001b[39m.\u001b[39;49m_sock\u001b[39m.\u001b[39;49mrecv_into(b)\n\u001b[0;32m    706\u001b[0m     \u001b[39mexcept\u001b[39;00m timeout:\n\u001b[0;32m    707\u001b[0m         \u001b[39mself\u001b[39m\u001b[39m.\u001b[39m_timeout_occurred \u001b[39m=\u001b[39m \u001b[39mTrue\u001b[39;00m\n",
      "\u001b[1;31mKeyboardInterrupt\u001b[0m: "
     ]
    }
   ],
   "source": [
    "driver_path = \"C:\\\\Users\\\\Djoze\\\\Desktop\\\\chromedriver.exe\"\n",
    "wd = webdriver.Chrome(executable_path=driver_path)\n",
    "for i, game_link in enumerate(link_to_game):\n",
    "    file_name = f\"HTMLGAMES/{i}-{dates[i]}-{team1[i]}-{team2[i]}.html\"\n",
    "    wd.get(link_to_game[i])\n",
    "    time.sleep(5)\n",
    "    with open(file_name, \"w\", encoding=\"utf-8\") as file:\n",
    "        file.write(wd.page_source)"
   ]
  },
  {
   "cell_type": "code",
   "execution_count": 4,
   "metadata": {},
   "outputs": [],
   "source": [
    "dates_final = []\n",
    "team1_final = []\n",
    "team2_final= []\n",
    "win_team_final = []\n",
    "results_loser_final = []\n",
    "results_winner_final = []\n",
    "event_final = []\n",
    "type_of_game_final = []\n",
    "link_to_game_final = []\n",
    "maps = []\n",
    "overtime = []\n",
    "team1_world_rank = []\n",
    "team1_rounds = []\n",
    "team1_rounds_ct = []\n",
    "team1_rounds_t = []\n",
    "team1_rating = []\n",
    "team2_world_rank = []\n",
    "team2_rounds = []\n",
    "team2_rounds_ct = []\n",
    "team2_rounds_t = []\n",
    "team2_rating = []\n",
    "ranks = []\n",
    "scores = []\n",
    "results_ct = []\n",
    "results_t = []\n",
    "match_id = []\n",
    "path_to_save = \"HTMLGAMES\\DONE\""
   ]
  },
  {
   "cell_type": "code",
   "execution_count": 5,
   "metadata": {},
   "outputs": [],
   "source": [
    "last_id = 5800\n",
    "\n",
    "for j in range(last_id):\n",
    "\n",
    "    file_of_game = f\"{last_id-j}-{dates[j]}-{team1[j]}-{team2[j]}.html\"\n",
    "    number_of_maps = 0\n",
    "    ranks = []\n",
    "    scores = []\n",
    "    results_ct = []\n",
    "    results_t = []\n",
    "\n",
    "    with open(f\"HTMLGAMES/{file_of_game}\", \"r\", encoding=\"utf-8\") as reader:\n",
    "        html_string = reader.read()\n",
    "        soup = BeautifulSoup(html_string, 'html.parser')\n",
    "\n",
    "  \n",
    "    for rank in soup.find_all(class_= \"teamRanking\"):\n",
    "        ranks.append(rank.text.split(\"#\")[-1])\n",
    "\n",
    "    for flex in soup.find_all(class_=\"mapholder\"):\n",
    "        for map_played in flex.find_all(class_=\"mapname\"):\n",
    "            if map_played.text != \"TBA\":\n",
    "                match_id.append(f\"{last_id-j}\")\n",
    "                maps.append(map_played.text)\n",
    "                dates_final.append(dates[j])\n",
    "                team1_final.append(team1[j])\n",
    "                team2_final.append(team2[j])\n",
    "                win_team_final.append(win_team[j])\n",
    "                results_loser_final.append(results_loser[j])\n",
    "                results_winner_final.append(results_winner[j])\n",
    "                event_final.append(event[j])\n",
    "                type_of_game_final.append(type_of_game[j])\n",
    "                link_to_game_final.append(link_to_game[j])\n",
    "                number_of_maps+=1\n",
    "                team1_world_rank.append(ranks[0])\n",
    "                team2_world_rank.append(ranks[1])\n",
    "\n",
    "    for results in soup.find_all(class_=\"results-center\"):\n",
    "        if results.find(class_=\"results-center-half-score\"):\n",
    "            if results.find(class_=\"results-center-half-score\").text:\n",
    "                for result_ct in results.find_all(class_=\"ct\"):\n",
    "                    results_ct.append(result_ct.text)\n",
    "                for result_t in results.find_all(class_=\"t\"):\n",
    "                    results_t.append(result_t.text)\n",
    "            else:\n",
    "                results_ct.append(\"-\")\n",
    "                results_t.append(\"-\")\n",
    "                results_ct.append(\"-\")\n",
    "                results_t.append(\"-\")\n",
    "        else:\n",
    "            results_ct.append(\"-\")\n",
    "            results_t.append(\"-\")\n",
    "            results_ct.append(\"-\")\n",
    "            results_t.append(\"-\")\n",
    "\n",
    "    for map_exists in soup.find_all(class_=\"mapholder\"):\n",
    "        if map_exists.find_all(class_=\"results-team-score\"):\n",
    "                for score in map_exists.find_all(class_=\"results-team-score\"):\n",
    "                    scores.append(score.text)\n",
    "        else:\n",
    "            scores.append(\"-\")\n",
    "            scores.append(\"-\")\n",
    "\n",
    "    for i in range(0,number_of_maps*2,2):\n",
    "        team1_rounds.append(scores[i])\n",
    "        team2_rounds.append(scores[i+1])\n",
    "        \n",
    "        if  scores[i] == \"-\" or scores[i+1] == \"-\" or ((scores[i] == \"0\" and scores[i+1] == \"1\") or (scores[i] == \"1\" and scores[i+1] == \"0\")):\n",
    "            team1_rounds_ct.append(\"-\")\n",
    "            team1_rounds_t.append(\"-\")\n",
    "            team2_rounds_ct.append(\"-\")\n",
    "            team2_rounds_t.append(\"-\")\n",
    "        else:\n",
    "            team1_rounds_ct.append(results_ct[i])\n",
    "            team2_rounds_ct.append(results_ct[i+1])\n",
    "            team1_rounds_t.append(results_t[i+1])\n",
    "            team2_rounds_t.append(results_t[i])\n",
    "       \n",
    "        if  scores[i] == \"-\" or scores[i+1] == \"-\":\n",
    "                overtime.append(\"Not Played\")\n",
    "        else:\n",
    "            if int(scores[i])+int(scores[i+1]) > 30:\n",
    "                overtime.append(\"Yes\")\n",
    "            elif int(scores[i])+int(scores[i+1]) == 1:\n",
    "                overtime.append(\"Forfeit\")\n",
    "            else:\n",
    "                overtime.append(\"No\")\n",
    "\n",
    "    if not os.path.exists(path_to_save):\n",
    "        os.makedirs(path_to_save)\n",
    "\n",
    "    os.rename(f\"HTMLGAMES/{file_of_game}\",f\"HTMLGAMES/DONE/{file_of_game}\")"
   ]
  },
  {
   "cell_type": "code",
   "execution_count": 22,
   "metadata": {},
   "outputs": [],
   "source": [
    "team1_world_rank = [rank.replace(\"\\nUnranked\\n\", \"0\") for rank in team1_world_rank]\n",
    "team2_world_rank = [rank.replace(\"\\nUnranked\\n\", \"0\") for rank in team2_world_rank]\n",
    "team1_rounds = [team.replace(\"-\", \"0\") for team in team1_rounds]\n",
    "team2_rounds = [team.replace(\"-\", \"0\") for team in team2_rounds]\n",
    "team1_rounds_ct = [team.replace(\"-\", \"0\") for team in team1_rounds_ct]\n",
    "team2_rounds_ct = [team.replace(\"-\", \"0\") for team in team2_rounds_ct]\n",
    "team1_rounds_t = [team.replace(\"-\", \"0\") for team in team1_rounds_t]\n",
    "team2_rounds_t = [team.replace(\"-\", \"0\") for team in team2_rounds_t]\n",
    "for i, date in enumerate(dates_final):\n",
    "    dates_temp = dates_final[i].split(\" \")\n",
    "    dates_temp\n",
    "    dates_final[i] = f\"{dates_temp[3]} {dates_temp[1]} {dates_temp[2]} {dates_temp[4]}\"\n",
    "dates_final = [date.replace(\"st for\", \"\") for date in dates_final]\n",
    "dates_final = [date.replace(\"nd for\", \"\") for date in dates_final]\n",
    "dates_final = [date.replace(\"rd for\", \"\") for date in dates_final]\n",
    "dates_final = [date.replace(\"th for\", \"\") for date in dates_final]\n"
   ]
  },
  {
   "cell_type": "code",
   "execution_count": 25,
   "metadata": {},
   "outputs": [],
   "source": [
    "results_data_matches = pd.DataFrame(data={\"ID\":match_id, \"Date\":dates_final, \"Team 1\":team1_final, \"Team 2\":team2_final, \"Winner\":win_team_final, \"Winner's Match Score\":results_winner_final, \"Loser's Match Score\":results_loser_final, \"Event\":event_final, \"Best of\":type_of_game_final, \"Link\":link_to_game_final, \"Map\":maps,\t\"Overtime\":overtime, \"Team 1 Rank\":team1_world_rank, \"Team 2 Rank\":team2_world_rank, \"Team 1 Map Score\":team1_rounds, \"Team 2 Map Score\":team2_rounds, \"Team 1 CT Rounds\":team1_rounds_ct, \"Team 2 CT Rounds\":team2_rounds_ct, \"Team 1 T Rounds\":team1_rounds_t, \"Team 2 T Rounds\":team2_rounds_t})"
   ]
  },
  {
   "cell_type": "code",
   "execution_count": 26,
   "metadata": {},
   "outputs": [],
   "source": [
    "columns_to_int = [\"ID\",\"Winner's Match Score\",\"Loser's Match Score\",\"Team 1 Rank\",\"Team 2 Rank\",\"Team 1 Map Score\",\"Team 2 Map Score\",\"Team 1 CT Rounds\",\"Team 2 CT Rounds\",\"Team 1 T Rounds\",\"Team 2 T Rounds\"]\n",
    "for i in columns_to_int:\n",
    "    results_data_matches[f\"{i}\"] = results_data_matches[f\"{i}\"].astype(int,errors=\"raise\")"
   ]
  },
  {
   "cell_type": "code",
   "execution_count": 27,
   "metadata": {},
   "outputs": [],
   "source": [
    "rows_to_drop = results_data_matches[(results_data_matches[\"Overtime\"] == \"Not Played\") | (results_data_matches[\"Overtime\"] == \"Forfeit\")].index\n",
    "results_data_matches.drop(rows_to_drop, inplace=True)"
   ]
  },
  {
   "cell_type": "code",
   "execution_count": 28,
   "metadata": {},
   "outputs": [],
   "source": [
    "results_data_matches.to_excel(\"Output.xlsx\", index = False)"
   ]
  }
 ],
 "metadata": {
  "kernelspec": {
   "display_name": "Python 3.10.6 ('webscraping')",
   "language": "python",
   "name": "python3"
  },
  "language_info": {
   "codemirror_mode": {
    "name": "ipython",
    "version": 3
   },
   "file_extension": ".py",
   "mimetype": "text/x-python",
   "name": "python",
   "nbconvert_exporter": "python",
   "pygments_lexer": "ipython3",
   "version": "3.10.6"
  },
  "orig_nbformat": 4,
  "vscode": {
   "interpreter": {
    "hash": "9ab1ac1cb003ac023fee87879e6533b8db90e49d0f0bc6f87c950698da841517"
   }
  }
 },
 "nbformat": 4,
 "nbformat_minor": 2
}
